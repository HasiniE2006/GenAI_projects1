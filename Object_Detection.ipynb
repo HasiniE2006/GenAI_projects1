import cv2
import matplotlib.pyplot as plt
from ultralytics import YOLO
!pip install ultralytics
!pip install opencv-python
!pip install matplotlib
model=YOLO('yolov5s.pt')
image_path=r'C:\Users\admin\Pictures\obj.jpg'
image=cv2.imread(image_path)
image_rgb=cv2.cvtColor(image, cv2.COLOR_BGR2RGB)
plt.imshow(image_rgb)
plt.axis('off')
plt.show()
from ultralytics import YOLO
model=YOLO('yolov5s.pt')
results=model.predict(source=r'C:\Users\admin\Pictures\obj.jpg',save=True)
for result in results:
    result.show()
